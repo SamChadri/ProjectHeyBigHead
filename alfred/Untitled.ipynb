{
 "cells": [
  {
   "cell_type": "code",
   "execution_count": 13,
   "metadata": {},
   "outputs": [],
   "source": [
    "import boto3\n",
    "from boto3 import Session\n",
    "from contextlib import closing\n",
    "from botocore.exceptions import BotoCoreError, ClientError\n",
    "import os\n",
    "import sys\n",
    "import subprocess"
   ]
  },
  {
   "cell_type": "code",
   "execution_count": 7,
   "metadata": {},
   "outputs": [],
   "source": [
    "session = Session(profile_name=\"youngtony\")\n",
    "polly = session.client(\"polly\",region_name=\"us-east-2\")"
   ]
  },
  {
   "cell_type": "code",
   "execution_count": 21,
   "metadata": {},
   "outputs": [],
   "source": [
    "try:\n",
    "    response = polly.synthesize_speech(Text=\"Hello Sam!\", OutputFormat=\"mp3\",\n",
    " VoiceId=\"Brian\")\n",
    "except (BotoCoreError, ClientError) as error:\n",
    "    print(error)\n",
    "    sys.exit(-1)\n",
    "    \n",
    "if \"AudioStream\" in response:\n",
    "    with closing(response['AudioStream']) as stream:\n",
    "            output = os.path.join(os.path.curdir, \"speech.mp3\")\n",
    "            \n",
    "            try:\n",
    "                with open(output, \"wb\") as file:\n",
    "                    file.write(stream.read())\n",
    "            except IOError as error:\n",
    "                print(error)\n",
    "                sys.exit(-1)"
   ]
  },
  {
   "cell_type": "code",
   "execution_count": 22,
   "metadata": {},
   "outputs": [
    {
     "data": {
      "text/html": [
       "\n",
       "                <audio  controls=\"controls\" >\n",
       "                    <source src=\"data:audio/mpeg;base64,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\" type=\"audio/mpeg\" />\n",
       "                    Your browser does not support the audio element.\n",
       "                </audio>\n",
       "              "
      ],
      "text/plain": [
       "<IPython.lib.display.Audio object>"
      ]
     },
     "execution_count": 22,
     "metadata": {},
     "output_type": "execute_result"
    }
   ],
   "source": [
    "from IPython.display import Audio\n",
    "Audio(output)"
   ]
  },
  {
   "cell_type": "code",
   "execution_count": null,
   "metadata": {},
   "outputs": [],
   "source": []
  }
 ],
 "metadata": {
  "kernelspec": {
   "display_name": "Python 3",
   "language": "python",
   "name": "python3"
  },
  "language_info": {
   "codemirror_mode": {
    "name": "ipython",
    "version": 3
   },
   "file_extension": ".py",
   "mimetype": "text/x-python",
   "name": "python",
   "nbconvert_exporter": "python",
   "pygments_lexer": "ipython3",
   "version": "3.6.10"
  }
 },
 "nbformat": 4,
 "nbformat_minor": 4
}
